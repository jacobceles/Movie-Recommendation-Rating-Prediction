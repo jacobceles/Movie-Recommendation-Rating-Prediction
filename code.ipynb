{
 "cells": [
  {
   "cell_type": "code",
   "execution_count": null,
   "id": "20bff801-18c1-459a-b4b7-2f7b5568de39",
   "metadata": {},
   "outputs": [],
   "source": [
    "!pip install modin --user\n",
    "!pip install modin[ray] --user\n",
    "!pip install scikit-surprise --user"
   ]
  },
  {
   "cell_type": "code",
   "execution_count": 1,
   "id": "ae3a723a-27cc-49d7-b9d7-8c708bc16f9b",
   "metadata": {},
   "outputs": [
    {
     "name": "stderr",
     "output_type": "stream",
     "text": [
      "2022-04-29 22:48:00,958\tWARNING services.py:1983 -- WARNING: The object store is using /tmp instead of /dev/shm because /dev/shm has only 65523712 bytes available. This will harm performance! You may be able to free up space by deleting files in /dev/shm. If you are inside a Docker container, you can increase /dev/shm size by passing '--shm-size=10.24gb' to 'docker run' (or add it to the run_options list in a Ray cluster config). Make sure to set this to more than 30% of available RAM.\n"
     ]
    }
   ],
   "source": [
    "import csv\n",
    "import ray\n",
    "import modin.pandas as pd\n",
    "import matplotlib.pyplot as plt\n",
    "\n",
    "from collections import defaultdict\n",
    "from surprise.accuracy import rmse, mae\n",
    "from surprise.model_selection import train_test_split\n",
    "from surprise.model_selection import GridSearchCV, cross_validate\n",
    "from surprise import Reader, Dataset, dump, \\\n",
    "KNNBasic, KNNWithZScore, KNNWithMeans, \\\n",
    "SVD, SVDpp, SlopeOne, CoClustering, NormalPredictor\n",
    "\n",
    "ray.init()\n",
    "%matplotlib inline\n",
    "plt.style.use('fivethirtyeight') "
   ]
  },
  {
   "cell_type": "markdown",
   "id": "c673ae35-2943-484a-a5ac-3e7c19606a04",
   "metadata": {},
   "source": [
    "# Read and Format Data"
   ]
  },
  {
   "cell_type": "code",
   "execution_count": 2,
   "id": "04d2e1b0-8bdb-4510-8292-fc815681ede4",
   "metadata": {},
   "outputs": [
    {
     "name": "stderr",
     "output_type": "stream",
     "text": [
      "UserWarning: `read_*` implementation has mismatches with pandas:\n",
      "Data types of partitions are different! Please refer to the troubleshooting section of the Modin documentation to fix this issue.\n"
     ]
    }
   ],
   "source": [
    "tags_df = pd.read_csv('data/tags.csv', usecols = ['userId', 'movieId', 'tag'])\n",
    "g = {i:lambda x: '|'.join(list(x)) for i in tags_df.columns[2:]}\n",
    "tags_df = tags_df.groupby(['userId', 'movieId']).agg(g).reset_index()\n",
    "ratings_df = pd.read_csv('data/ratings.csv', usecols = ['userId', 'movieId', 'rating'])\n",
    "\n",
    "movie_df = pd.read_csv('data/movies.csv')\n",
    "links_df = pd.read_csv('data/links.csv')\n",
    "\n",
    "movies_df = pd.merge(movie_df, links_df, on=['movieId'])\n",
    "reviews_df = pd.merge(ratings_df, tags_df, on=['userId', 'movieId'])"
   ]
  },
  {
   "cell_type": "markdown",
   "id": "3f47c1e0-a502-4941-8862-f2bf88fde2cd",
   "metadata": {},
   "source": [
    "# Data Analysis/Exploration/Profiling"
   ]
  },
  {
   "cell_type": "markdown",
   "id": "438a794b-f8a8-4a91-a3b1-d87229308f41",
   "metadata": {},
   "source": [
    "## Reviews (Tags+Ratings)"
   ]
  },
  {
   "cell_type": "code",
   "execution_count": 3,
   "id": "4a71f768-0db9-48eb-8091-668ecb965493",
   "metadata": {},
   "outputs": [
    {
     "data": {
      "text/html": [
       "<div>\n",
       "<style scoped>\n",
       "    .dataframe tbody tr th:only-of-type {\n",
       "        vertical-align: middle;\n",
       "    }\n",
       "\n",
       "    .dataframe tbody tr th {\n",
       "        vertical-align: top;\n",
       "    }\n",
       "\n",
       "    .dataframe thead th {\n",
       "        text-align: right;\n",
       "    }\n",
       "</style>\n",
       "<table border=\"1\" class=\"dataframe\">\n",
       "  <thead>\n",
       "    <tr style=\"text-align: right;\">\n",
       "      <th></th>\n",
       "      <th>userId</th>\n",
       "      <th>movieId</th>\n",
       "      <th>rating</th>\n",
       "      <th>tag</th>\n",
       "    </tr>\n",
       "  </thead>\n",
       "  <tbody>\n",
       "    <tr>\n",
       "      <th>0</th>\n",
       "      <td>2</td>\n",
       "      <td>60756</td>\n",
       "      <td>5.0</td>\n",
       "      <td>funny|Highly quotable|will ferrell</td>\n",
       "    </tr>\n",
       "    <tr>\n",
       "      <th>1</th>\n",
       "      <td>2</td>\n",
       "      <td>89774</td>\n",
       "      <td>5.0</td>\n",
       "      <td>Boxing story|MMA|Tom Hardy</td>\n",
       "    </tr>\n",
       "    <tr>\n",
       "      <th>2</th>\n",
       "      <td>2</td>\n",
       "      <td>106782</td>\n",
       "      <td>5.0</td>\n",
       "      <td>drugs|Leonardo DiCaprio|Martin Scorsese</td>\n",
       "    </tr>\n",
       "    <tr>\n",
       "      <th>3</th>\n",
       "      <td>7</td>\n",
       "      <td>48516</td>\n",
       "      <td>1.0</td>\n",
       "      <td>way too long</td>\n",
       "    </tr>\n",
       "    <tr>\n",
       "      <th>4</th>\n",
       "      <td>18</td>\n",
       "      <td>431</td>\n",
       "      <td>4.0</td>\n",
       "      <td>Al Pacino|gangster|mafia</td>\n",
       "    </tr>\n",
       "    <tr>\n",
       "      <th>...</th>\n",
       "      <td>...</td>\n",
       "      <td>...</td>\n",
       "      <td>...</td>\n",
       "      <td>...</td>\n",
       "    </tr>\n",
       "    <tr>\n",
       "      <th>1630</th>\n",
       "      <td>606</td>\n",
       "      <td>5694</td>\n",
       "      <td>3.0</td>\n",
       "      <td>70mm</td>\n",
       "    </tr>\n",
       "    <tr>\n",
       "      <th>1631</th>\n",
       "      <td>606</td>\n",
       "      <td>6107</td>\n",
       "      <td>4.0</td>\n",
       "      <td>World War II</td>\n",
       "    </tr>\n",
       "    <tr>\n",
       "      <th>1632</th>\n",
       "      <td>606</td>\n",
       "      <td>7382</td>\n",
       "      <td>4.5</td>\n",
       "      <td>for katie</td>\n",
       "    </tr>\n",
       "    <tr>\n",
       "      <th>1633</th>\n",
       "      <td>610</td>\n",
       "      <td>3265</td>\n",
       "      <td>5.0</td>\n",
       "      <td>gun fu|heroic bloodshed</td>\n",
       "    </tr>\n",
       "    <tr>\n",
       "      <th>1634</th>\n",
       "      <td>610</td>\n",
       "      <td>168248</td>\n",
       "      <td>5.0</td>\n",
       "      <td>Heroic Bloodshed</td>\n",
       "    </tr>\n",
       "  </tbody>\n",
       "</table>\n",
       "<p>1635 rows x 4 columns</p>\n",
       "</div>"
      ],
      "text/plain": [
       "      userId  movieId  rating                                      tag\n",
       "0          2    60756     5.0       funny|Highly quotable|will ferrell\n",
       "1          2    89774     5.0               Boxing story|MMA|Tom Hardy\n",
       "2          2   106782     5.0  drugs|Leonardo DiCaprio|Martin Scorsese\n",
       "3          7    48516     1.0                             way too long\n",
       "4         18      431     4.0                 Al Pacino|gangster|mafia\n",
       "...      ...      ...     ...                                      ...\n",
       "1630     606     5694     3.0                                     70mm\n",
       "1631     606     6107     4.0                             World War II\n",
       "1632     606     7382     4.5                                for katie\n",
       "1633     610     3265     5.0                  gun fu|heroic bloodshed\n",
       "1634     610   168248     5.0                         Heroic Bloodshed\n",
       "\n",
       "[1635 rows x 4 columns]"
      ]
     },
     "metadata": {},
     "output_type": "display_data"
    }
   ],
   "source": [
    "display(reviews_df)"
   ]
  },
  {
   "cell_type": "code",
   "execution_count": 4,
   "id": "5ee5f151-83bd-4934-9e15-5b873f82633e",
   "metadata": {},
   "outputs": [
    {
     "data": {
      "text/plain": [
       "count    1635.000000\n",
       "mean        3.764526\n",
       "std         0.861719\n",
       "min         0.500000\n",
       "25%         3.500000\n",
       "50%         4.000000\n",
       "75%         4.250000\n",
       "max         5.000000\n",
       "Name: rating, dtype: float64"
      ]
     },
     "execution_count": 4,
     "metadata": {},
     "output_type": "execute_result"
    }
   ],
   "source": [
    "reviews_df['rating'].describe()"
   ]
  },
  {
   "cell_type": "code",
   "execution_count": 5,
   "id": "1e31ebeb-c6c6-4935-9e29-a4e68cbfa69c",
   "metadata": {},
   "outputs": [
    {
     "name": "stdout",
     "output_type": "stream",
     "text": [
      "Number of distinct Users : 54\n",
      "Number of distinct Movies : 1464\n",
      "Number of distinct Ratings: 10\n"
     ]
    }
   ],
   "source": [
    "print('Number of distinct Users : {}'.format(len(reviews_df['userId'].unique())))\n",
    "print('Number of distinct Movies : {}'.format(len(reviews_df['movieId'].unique())))\n",
    "print('Number of distinct Ratings: {}'.format(len(reviews_df['rating'].unique())))"
   ]
  },
  {
   "cell_type": "code",
   "execution_count": 6,
   "id": "ae275919-ef7a-45bd-a981-4fa9ee1ff40e",
   "metadata": {},
   "outputs": [
    {
     "data": {
      "text/plain": [
       "Text(0, 0.5, 'Count')"
      ]
     },
     "execution_count": 6,
     "metadata": {},
     "output_type": "execute_result"
    },
    {
     "data": {
      "image/png": "[encoded data removed]",
      "text/plain": [
       "<Figure size 432x288 with 1 Axes>"
      ]
     },
     "metadata": {},
     "output_type": "display_data"
    }
   ],
   "source": [
    "ratings_df = reviews_df.groupby(by=['rating']).agg({'userId': 'count'}).rename(columns={'userId': 'count'}).reset_index()\n",
    "plt.bar(ratings_df['rating'], ratings_df['count'], align='center', width=0.3)\n",
    "plt.xticks(ratings_df['rating'])\n",
    "plt.title(\"Rating vs Count\")\n",
    "plt.xlabel(\"Rating\")\n",
    "plt.ylabel(\"Count\")"
   ]
  },
  {
   "cell_type": "code",
   "execution_count": 7,
   "id": "aa2f0197-d20f-4d38-bcc3-69719150d6a0",
   "metadata": {},
   "outputs": [
    {
     "data": {
      "image/png": "[encoded data removed]",
      "text/plain": [
       "<Figure size 432x288 with 1 Axes>"
      ]
     },
     "metadata": {},
     "output_type": "display_data"
    }
   ],
   "source": [
    "plt.boxplot(ratings_df['rating'])\n",
    "plt.title(\"Rating Boxplot\")\n",
    "plt.ylabel(\"Range of Ratings (0-5)\")\n",
    "plt.show()"
   ]
  },
  {
   "cell_type": "markdown",
   "id": "6226e2e6-f707-44b3-9ea6-368173834153",
   "metadata": {},
   "source": [
    "## Movies (Movie + Links)"
   ]
  },
  {
   "cell_type": "code",
   "execution_count": 8,
   "id": "b5a43878-4e09-4b4f-af7c-8b4bd617cbe5",
   "metadata": {},
   "outputs": [
    {
     "data": {
      "text/html": [
       "<div>\n",
       "<style scoped>\n",
       "    .dataframe tbody tr th:only-of-type {\n",
       "        vertical-align: middle;\n",
       "    }\n",
       "\n",
       "    .dataframe tbody tr th {\n",
       "        vertical-align: top;\n",
       "    }\n",
       "\n",
       "    .dataframe thead th {\n",
       "        text-align: right;\n",
       "    }\n",
       "</style>\n",
       "<table border=\"1\" class=\"dataframe\">\n",
       "  <thead>\n",
       "    <tr style=\"text-align: right;\">\n",
       "      <th></th>\n",
       "      <th>movieId</th>\n",
       "      <th>title</th>\n",
       "      <th>genres</th>\n",
       "      <th>imdbId</th>\n",
       "      <th>tmdbId</th>\n",
       "    </tr>\n",
       "  </thead>\n",
       "  <tbody>\n",
       "    <tr>\n",
       "      <th>0</th>\n",
       "      <td>1</td>\n",
       "      <td>Toy Story (1995)</td>\n",
       "      <td>Adventure|Animation|Children|Comedy|Fantasy</td>\n",
       "      <td>114709</td>\n",
       "      <td>862.0</td>\n",
       "    </tr>\n",
       "    <tr>\n",
       "      <th>1</th>\n",
       "      <td>2</td>\n",
       "      <td>Jumanji (1995)</td>\n",
       "      <td>Adventure|Children|Fantasy</td>\n",
       "      <td>113497</td>\n",
       "      <td>8844.0</td>\n",
       "    </tr>\n",
       "    <tr>\n",
       "      <th>2</th>\n",
       "      <td>3</td>\n",
       "      <td>Grumpier Old Men (1995)</td>\n",
       "      <td>Comedy|Romance</td>\n",
       "      <td>113228</td>\n",
       "      <td>15602.0</td>\n",
       "    </tr>\n",
       "    <tr>\n",
       "      <th>3</th>\n",
       "      <td>4</td>\n",
       "      <td>Waiting to Exhale (1995)</td>\n",
       "      <td>Comedy|Drama|Romance</td>\n",
       "      <td>114885</td>\n",
       "      <td>31357.0</td>\n",
       "    </tr>\n",
       "    <tr>\n",
       "      <th>4</th>\n",
       "      <td>5</td>\n",
       "      <td>Father of the Bride Part II (1995)</td>\n",
       "      <td>Comedy</td>\n",
       "      <td>113041</td>\n",
       "      <td>11862.0</td>\n",
       "    </tr>\n",
       "    <tr>\n",
       "      <th>...</th>\n",
       "      <td>...</td>\n",
       "      <td>...</td>\n",
       "      <td>...</td>\n",
       "      <td>...</td>\n",
       "      <td>...</td>\n",
       "    </tr>\n",
       "    <tr>\n",
       "      <th>9737</th>\n",
       "      <td>193581</td>\n",
       "      <td>Black Butler: Book of the Atlantic (2017)</td>\n",
       "      <td>Action|Animation|Comedy|Fantasy</td>\n",
       "      <td>5476944</td>\n",
       "      <td>432131.0</td>\n",
       "    </tr>\n",
       "    <tr>\n",
       "      <th>9738</th>\n",
       "      <td>193583</td>\n",
       "      <td>No Game No Life: Zero (2017)</td>\n",
       "      <td>Animation|Comedy|Fantasy</td>\n",
       "      <td>5914996</td>\n",
       "      <td>445030.0</td>\n",
       "    </tr>\n",
       "    <tr>\n",
       "      <th>9739</th>\n",
       "      <td>193585</td>\n",
       "      <td>Flint (2017)</td>\n",
       "      <td>Drama</td>\n",
       "      <td>6397426</td>\n",
       "      <td>479308.0</td>\n",
       "    </tr>\n",
       "    <tr>\n",
       "      <th>9740</th>\n",
       "      <td>193587</td>\n",
       "      <td>Bungo Stray Dogs: Dead Apple (2018)</td>\n",
       "      <td>Action|Animation</td>\n",
       "      <td>8391976</td>\n",
       "      <td>483455.0</td>\n",
       "    </tr>\n",
       "    <tr>\n",
       "      <th>9741</th>\n",
       "      <td>193609</td>\n",
       "      <td>Andrew Dice Clay: Dice Rules (1991)</td>\n",
       "      <td>Comedy</td>\n",
       "      <td>101726</td>\n",
       "      <td>37891.0</td>\n",
       "    </tr>\n",
       "  </tbody>\n",
       "</table>\n",
       "<p>9742 rows x 5 columns</p>\n",
       "</div>"
      ],
      "text/plain": [
       "      movieId                                      title  \\\n",
       "0           1                           Toy Story (1995)   \n",
       "1           2                             Jumanji (1995)   \n",
       "2           3                    Grumpier Old Men (1995)   \n",
       "3           4                   Waiting to Exhale (1995)   \n",
       "4           5         Father of the Bride Part II (1995)   \n",
       "...       ...                                        ...   \n",
       "9737   193581  Black Butler: Book of the Atlantic (2017)   \n",
       "9738   193583               No Game No Life: Zero (2017)   \n",
       "9739   193585                               Flint (2017)   \n",
       "9740   193587        Bungo Stray Dogs: Dead Apple (2018)   \n",
       "9741   193609        Andrew Dice Clay: Dice Rules (1991)   \n",
       "\n",
       "                                           genres   imdbId    tmdbId  \n",
       "0     Adventure|Animation|Children|Comedy|Fantasy   114709     862.0  \n",
       "1                      Adventure|Children|Fantasy   113497    8844.0  \n",
       "2                                  Comedy|Romance   113228   15602.0  \n",
       "3                            Comedy|Drama|Romance   114885   31357.0  \n",
       "4                                          Comedy   113041   11862.0  \n",
       "...                                           ...      ...       ...  \n",
       "9737              Action|Animation|Comedy|Fantasy  5476944  432131.0  \n",
       "9738                     Animation|Comedy|Fantasy  5914996  445030.0  \n",
       "9739                                        Drama  6397426  479308.0  \n",
       "9740                             Action|Animation  8391976  483455.0  \n",
       "9741                                       Comedy   101726   37891.0  \n",
       "\n",
       "[9742 rows x 5 columns]"
      ]
     },
     "metadata": {},
     "output_type": "display_data"
    }
   ],
   "source": [
    "display(movies_df)"
   ]
  },
  {
   "cell_type": "code",
   "execution_count": 9,
   "id": "eb46d0e4-7ebc-4d7d-a46d-5cfecd8f69d5",
   "metadata": {},
   "outputs": [
    {
     "data": {
      "text/plain": [
       "<AxesSubplot:title={'center':'Genre vs Count'}, xlabel='Genres', ylabel='Count'>"
      ]
     },
     "execution_count": 9,
     "metadata": {},
     "output_type": "execute_result"
    },
    {
     "data": {
      "image/png": "[encoded data removed]",
      "text/plain": [
       "<Figure size 432x288 with 1 Axes>"
      ]
     },
     "metadata": {},
     "output_type": "display_data"
    }
   ],
   "source": [
    "genre_exploded_movies_df = movies_df[['movieId', 'genres']].set_index(['movieId']).apply(lambda x: x.str.split('|').explode()).reset_index()\n",
    "genre_exploded_movies_df.groupby(['genres']).size().plot(kind = 'bar', title=\"Genre vs Count\", xlabel=\"Genres\", ylabel=\"Count\")"
   ]
  },
  {
   "cell_type": "code",
   "execution_count": 10,
   "id": "d6c27d58-a210-464e-aef1-1b0117e106c0",
   "metadata": {},
   "outputs": [
    {
     "name": "stdout",
     "output_type": "stream",
     "text": [
      "Total number of movies: 9742\n",
      "Number of movies without year: 12\n"
     ]
    },
    {
     "name": "stderr",
     "output_type": "stream",
     "text": [
      "UserWarning: `DataFrame.groupby_on_multiple_columns` defaulting to pandas implementation.\n",
      "Please refer to https://modin.readthedocs.io/en/stable/supported_apis/defaulting_to_pandas.html for explanation.\n",
      "FutureWarning: The `squeeze` parameter is deprecated and will be removed in a future version.\n",
      "UserWarning: Distributing <class 'pandas.core.frame.DataFrame'> object. This may take some time.\n",
      "UserWarning: `DataFrame.groupby_on_multiple_columns` defaulting to pandas implementation.\n",
      "FutureWarning: The `squeeze` parameter is deprecated and will be removed in a future version.\n",
      "UserWarning: Distributing <class 'pandas.core.frame.DataFrame'> object. This may take some time.\n"
     ]
    },
    {
     "name": "stdout",
     "output_type": "stream",
     "text": [
      "Number of years with or under 50 movies: 1351\n",
      "Plotting for 8379 of 9742 movies!\n"
     ]
    },
    {
     "data": {
      "text/plain": [
       "<AxesSubplot:title={'center':'Year vs Count'}, xlabel='Years', ylabel='Count'>"
      ]
     },
     "execution_count": 10,
     "metadata": {},
     "output_type": "execute_result"
    },
    {
     "data": {
      "image/png": "[encoded data removed]",
      "text/plain": [
       "<Figure size 1080x360 with 1 Axes>"
      ]
     },
     "metadata": {},
     "output_type": "display_data"
    }
   ],
   "source": [
    "year_wise_movies_df = movies_df[['title']].copy()\n",
    "print(\"Total number of movies: {}\".format(movies_df.shape[0]))\n",
    "year_wise_movies_df['year'] = year_wise_movies_df['title'].str.strip().str[-5:-1]\n",
    "# Remove non numeric rows\n",
    "year_wise_movies_df = year_wise_movies_df[pd.to_numeric(year_wise_movies_df['year'], errors='coerce').notnull()]\n",
    "print(\"Number of movies without year: {}\".format(movies_df.shape[0] - year_wise_movies_df.shape[0]))\n",
    "# Remove years with less than 50 movies\n",
    "print(\"Number of years with or under 50 movies: {}\".format(len(year_wise_movies_df.groupby('year').filter(lambda x : len(x)<=50))))\n",
    "year_wise_movies_df = year_wise_movies_df.groupby('year').filter(lambda x : len(x)>50)\n",
    "print(\"Plotting for {0} of {1} movies!\".format(year_wise_movies_df.shape[0], movies_df.shape[0]))\n",
    "year_wise_movies_df.groupby(['year']).size().plot(kind = 'bar', figsize=(15,5), title=\"Year vs Count\", xlabel=\"Years\", ylabel=\"Count\")"
   ]
  },
  {
   "cell_type": "markdown",
   "id": "42f6daaa-078b-45e8-b9bf-8a8028352abc",
   "metadata": {},
   "source": [
    "# Prediction & Recommendation"
   ]
  },
  {
   "cell_type": "markdown",
   "id": "de5815f8-4a0c-46b0-9c57-09985b9189b3",
   "metadata": {},
   "source": [
    "## Data Preparation for Surprise"
   ]
  },
  {
   "cell_type": "code",
   "execution_count": 11,
   "id": "9db9d3ae-5807-4f6b-b3a4-bb21aa4e2d65",
   "metadata": {},
   "outputs": [],
   "source": [
    "# Convert data to format required for surprise\n",
    "reader = Reader(rating_scale=(1, 5))\n",
    "data = Dataset.load_from_df(reviews_df[['userId', 'movieId', 'rating']], reader)\n",
    "# Split into train and test\n",
    "train_set, test_set = train_test_split(data, test_size=.2)"
   ]
  },
  {
   "cell_type": "markdown",
   "id": "ea3adf02-d66c-4ad4-9aad-49b724fd6b28",
   "metadata": {},
   "source": [
    "## Perform cross validation for each algorithm using Surprise"
   ]
  },
  {
   "cell_type": "code",
   "execution_count": 12,
   "id": "dc192476-490f-42be-9de7-511b17109068",
   "metadata": {},
   "outputs": [],
   "source": [
    "def precision_recall_calculation(predictions, threshold=3.5):\n",
    "    # First map the predictions to each user.\n",
    "    user_predict_true = defaultdict(list)\n",
    "    for user_id, movie_id, true_rating, predicted_rating, _ in predictions:\n",
    "        user_predict_true[user_id].append((predicted_rating, true_rating))\n",
    "\n",
    "    precisions = dict()\n",
    "    recalls = dict()\n",
    "    for user_id, user_ratings in user_predict_true.items():\n",
    "        # Sort user ratings by estimated value\n",
    "        user_ratings.sort(key=lambda x: x[0], reverse=True)\n",
    "        # Number of relevant items\n",
    "        no_of_relevant_items = sum((true_rating >= threshold) for (predicted_rating, true_rating) in user_ratings)\n",
    "        # Number of recommended items in top 10\n",
    "        no_of_recommended_items = sum((predicted_rating >= threshold) for (predicted_rating, true_rating) in user_ratings[:10])\n",
    "        # Number of relevant and recommended items in top 10\n",
    "        no_of_relevant_and_recommended_items = sum(((true_rating >= threshold) and (predicted_rating >= threshold)) for (predicted_rating, true_rating) in user_ratings[:10])\n",
    "        # Precision: Proportion of recommended items that are relevant\n",
    "        precisions[user_id] = no_of_relevant_and_recommended_items / no_of_recommended_items if no_of_recommended_items != 0 else 1\n",
    "        # Recall: Proportion of relevant items that are recommended\n",
    "        recalls[user_id] = no_of_relevant_and_recommended_items / no_of_relevant_items if no_of_relevant_items != 0 else 1\n",
    "\n",
    "    # Averaging the values for all users\n",
    "    average_precision=sum(precision for precision in precisions.values()) / len(precisions)\n",
    "    average_recall=sum(recall for recall in recalls.values()) / len(recalls)\n",
    "    F_score=(2*average_precision*average_recall) / (average_precision + average_recall)\n",
    "    \n",
    "    return [average_precision, average_recall, F_score]"
   ]
  },
  {
   "cell_type": "code",
   "execution_count": 14,
   "id": "909278ed-4a64-45df-b0c5-e4d8aaef3174",
   "metadata": {},
   "outputs": [
    {
     "name": "stdout",
     "output_type": "stream",
     "text": [
      "Computing the msd similarity matrix...\n",
      "Done computing similarity matrix.\n",
      "Computing the msd similarity matrix...\n",
      "Done computing similarity matrix.\n",
      "Computing the msd similarity matrix...\n",
      "Done computing similarity matrix.\n",
      "Computing the msd similarity matrix...\n",
      "Done computing similarity matrix.\n",
      "Computing the msd similarity matrix...\n",
      "Done computing similarity matrix.\n",
      "Computing the msd similarity matrix...\n",
      "Done computing similarity matrix.\n",
      "Computing the msd similarity matrix...\n",
      "Done computing similarity matrix.\n",
      "Computing the msd similarity matrix...\n",
      "Done computing similarity matrix.\n",
      "Computing the msd similarity matrix...\n",
      "Done computing similarity matrix.\n"
     ]
    },
    {
     "name": "stderr",
     "output_type": "stream",
     "text": [
      "UserWarning: Distributing <class 'list'> object. This may take some time.\n"
     ]
    },
    {
     "data": {
      "text/html": [
       "<div>\n",
       "<style scoped>\n",
       "    .dataframe tbody tr th:only-of-type {\n",
       "        vertical-align: middle;\n",
       "    }\n",
       "\n",
       "    .dataframe tbody tr th {\n",
       "        vertical-align: top;\n",
       "    }\n",
       "\n",
       "    .dataframe thead th {\n",
       "        text-align: right;\n",
       "    }\n",
       "</style>\n",
       "<table border=\"1\" class=\"dataframe\">\n",
       "  <thead>\n",
       "    <tr style=\"text-align: right;\">\n",
       "      <th></th>\n",
       "      <th>Algorithm</th>\n",
       "      <th>test_rmse</th>\n",
       "      <th>test_mae</th>\n",
       "      <th>fit_time</th>\n",
       "      <th>test_time</th>\n",
       "    </tr>\n",
       "  </thead>\n",
       "  <tbody>\n",
       "    <tr>\n",
       "      <th>0</th>\n",
       "      <td>SVD</td>\n",
       "      <td>0.848308</td>\n",
       "      <td>0.645644</td>\n",
       "      <td>0.058425</td>\n",
       "      <td>0.003814</td>\n",
       "    </tr>\n",
       "    <tr>\n",
       "      <th>1</th>\n",
       "      <td>SVDpp</td>\n",
       "      <td>0.839587</td>\n",
       "      <td>0.645283</td>\n",
       "      <td>7.530768</td>\n",
       "      <td>0.029565</td>\n",
       "    </tr>\n",
       "    <tr>\n",
       "      <th>2</th>\n",
       "      <td>SlopeOne</td>\n",
       "      <td>0.880794</td>\n",
       "      <td>0.656097</td>\n",
       "      <td>0.067700</td>\n",
       "      <td>0.075740</td>\n",
       "    </tr>\n",
       "    <tr>\n",
       "      <th>3</th>\n",
       "      <td>NormalPredictor</td>\n",
       "      <td>1.144870</td>\n",
       "      <td>0.899492</td>\n",
       "      <td>0.001282</td>\n",
       "      <td>0.006968</td>\n",
       "    </tr>\n",
       "    <tr>\n",
       "      <th>4</th>\n",
       "      <td>KNNBasic</td>\n",
       "      <td>0.893349</td>\n",
       "      <td>0.663703</td>\n",
       "      <td>0.000380</td>\n",
       "      <td>0.004925</td>\n",
       "    </tr>\n",
       "    <tr>\n",
       "      <th>5</th>\n",
       "      <td>KNNWithMeans</td>\n",
       "      <td>0.872942</td>\n",
       "      <td>0.651565</td>\n",
       "      <td>0.001281</td>\n",
       "      <td>0.006568</td>\n",
       "    </tr>\n",
       "    <tr>\n",
       "      <th>6</th>\n",
       "      <td>KNNWithZScore</td>\n",
       "      <td>0.877426</td>\n",
       "      <td>0.651773</td>\n",
       "      <td>0.003975</td>\n",
       "      <td>0.005262</td>\n",
       "    </tr>\n",
       "    <tr>\n",
       "      <th>7</th>\n",
       "      <td>CoClustering</td>\n",
       "      <td>0.901102</td>\n",
       "      <td>0.669057</td>\n",
       "      <td>0.091452</td>\n",
       "      <td>0.002508</td>\n",
       "    </tr>\n",
       "  </tbody>\n",
       "</table>\n",
       "</div>"
      ],
      "text/plain": [
       "         Algorithm  test_rmse  test_mae  fit_time  test_time\n",
       "0              SVD   0.848308  0.645644  0.058425   0.003814\n",
       "1            SVDpp   0.839587  0.645283  7.530768   0.029565\n",
       "2         SlopeOne   0.880794  0.656097  0.067700   0.075740\n",
       "3  NormalPredictor   1.144870  0.899492  0.001282   0.006968\n",
       "4         KNNBasic   0.893349  0.663703  0.000380   0.004925\n",
       "5     KNNWithMeans   0.872942  0.651565  0.001281   0.006568\n",
       "6    KNNWithZScore   0.877426  0.651773  0.003975   0.005262\n",
       "7     CoClustering   0.901102  0.669057  0.091452   0.002508"
      ]
     },
     "metadata": {},
     "output_type": "display_data"
    }
   ],
   "source": [
    "rows = []\n",
    "algorithms = [SVD(), SVDpp(), SlopeOne(), NormalPredictor(), KNNBasic(), KNNWithMeans(), KNNWithZScore(), CoClustering()]\n",
    "\n",
    "for algorithm in algorithms:\n",
    "    avg_dict = {}\n",
    "    algorithm_name = str(algorithm).split(' ')[0].split('.')[-1]\n",
    "    results = cross_validate(algorithm, data, measures=['RMSE', 'MAE'], cv=3, verbose=False)\n",
    "    for k, v in results.items(): avg_dict[k] = sum(v)/ float(len(v))\n",
    "#     algorithm.fit(train_set)\n",
    "#     predictions = algorithm.test(test_set)\n",
    "#     precision, recall, F_score = precision_recall_calculation(predictions, threshold=3.5)\n",
    "    rows.append([algorithm_name, avg_dict['test_rmse'], avg_dict['test_mae'], avg_dict['fit_time'], avg_dict['test_time']])\n",
    "\n",
    "benchmarks_df = pd.DataFrame(rows, columns=['Algorithm', 'test_rmse', 'test_mae', 'fit_time', 'test_time'])\n",
    "display(benchmarks_df)"
   ]
  },
  {
   "cell_type": "code",
   "execution_count": 15,
   "id": "1d4e5bf6-b3b3-4221-8770-e6a99835a29d",
   "metadata": {},
   "outputs": [
    {
     "data": {
      "image/png": "[encoded data removed]",
      "text/plain": [
       "<Figure size 1080x360 with 1 Axes>"
      ]
     },
     "metadata": {},
     "output_type": "display_data"
    }
   ],
   "source": [
    "fig, ax = plt.subplots(1,1);\n",
    "benchmarks_df.plot(kind=\"line\", x=\"Algorithm\", y=\"test_rmse\", title=\"Model vs Score\", ax=ax, figsize=(15, 5), xlabel=\"Model\", ylabel=\"Score\")\n",
    "benchmarks_df.plot(kind=\"line\", x=\"Algorithm\", y=\"test_mae\", title=\"Model vs Score\",  ax=ax, figsize=(15, 5), xlabel=\"Model\", ylabel=\"Score\")\n",
    "plt.xticks(benchmarks_df.index, benchmarks_df['Algorithm'], rotation=90)\n",
    "for line in ax.lines:\n",
    "    line.set_linewidth(1.5)"
   ]
  },
  {
   "cell_type": "markdown",
   "id": "6599f2a8-1baf-4d48-884b-dce56b35e178",
   "metadata": {},
   "source": [
    "> From the above, it is clear that SVDpp is performing best.<br>But when comapred with SVD, it takes a lot more time for negligible difference in the RMSE and MAE values. Hence we choose SVD to explore further."
   ]
  },
  {
   "cell_type": "markdown",
   "id": "9a76638f-feef-4b73-8113-9396a04109b2",
   "metadata": {},
   "source": [
    "## Apply GridSearchCV on SVD"
   ]
  },
  {
   "cell_type": "code",
   "execution_count": 17,
   "id": "f1872269-48e8-4a52-adaa-3ecb19a14d27",
   "metadata": {},
   "outputs": [
    {
     "name": "stdout",
     "output_type": "stream",
     "text": [
      "BEST RMSE: \t 0.8394483866766089\n",
      "BEST params: \t {'n_epochs': 60, 'lr_all': 0.002, 'reg_all': 0.02}\n"
     ]
    }
   ],
   "source": [
    "params = { \"n_epochs\":range(10,100,10), \"lr_all\":[0.002, 0.005], \"reg_all\":[0.02, 0.4, 0.6] }\n",
    "grid_search = GridSearchCV(SVD, params, measures=[\"rmse\", \"mae\"], refit=True, cv=5)\n",
    "grid_search.fit(data)\n",
    "\n",
    "training_parameters = grid_search.best_params[\"rmse\"]\n",
    "print(\"BEST RMSE: \\t\", grid_search.best_score[\"rmse\"])\n",
    "print(\"BEST params: \\t\", grid_search.best_params[\"rmse\"])"
   ]
  },
  {
   "cell_type": "code",
   "execution_count": 19,
   "id": "92c48ec8-9842-4df2-94a4-49906a5d2ccf",
   "metadata": {},
   "outputs": [
    {
     "data": {
      "text/plain": [
       "<surprise.prediction_algorithms.matrix_factorization.SVD at 0x7fc2b9b74a00>"
      ]
     },
     "execution_count": 19,
     "metadata": {},
     "output_type": "execute_result"
    }
   ],
   "source": [
    "svd=SVD(n_epochs=training_parameters['n_epochs'], lr_all=training_parameters['lr_all'], reg_all=training_parameters['reg_all'])\n",
    "svd.fit(train_set)"
   ]
  },
  {
   "cell_type": "code",
   "execution_count": 22,
   "id": "30a58e29-bd19-41dc-b6c4-5d48538b0601",
   "metadata": {},
   "outputs": [
    {
     "name": "stdout",
     "output_type": "stream",
     "text": [
      "Deviation RMSE: 0.895994489903897\n",
      "Deviation MAE: \t0.694236500879473\n",
      "Precision: \t0.8251920122887866\n",
      "Recall: \t0.9408801282085901\n",
      "F_score: \t0.8792469441257587\n"
     ]
    }
   ],
   "source": [
    "# Predict on the test dataset\n",
    "test_set_predicted = svd.test(test_set)\n",
    "print(\"Deviation RMSE: {}\".format(rmse(test_set_predicted, verbose=False)))\n",
    "print(\"Deviation MAE: \\t{}\".format(mae(test_set_predicted, verbose=False)))\n",
    "precision, recall, F_score = precision_recall_calculation(test_set_predicted, threshold=3.5)\n",
    "print(\"Precision: \\t{}\".format(precision))\n",
    "print(\"Recall: \\t{}\".format(recall))\n",
    "print(\"F_score: \\t{}\".format(F_score))"
   ]
  },
  {
   "cell_type": "markdown",
   "id": "7012b43d-7043-4e6c-9db3-b35999ef892e",
   "metadata": {},
   "source": [
    "## Check Accuracy (Additional)"
   ]
  },
  {
   "cell_type": "code",
   "execution_count": 23,
   "id": "1adac445-19b7-47b7-a724-8fc5f38d707a",
   "metadata": {},
   "outputs": [
    {
     "name": "stderr",
     "output_type": "stream",
     "text": [
      "UserWarning: Distributing <class 'list'> object. This may take some time.\n",
      "UserWarning: sort_values defaulting to pandas implementation.\n"
     ]
    },
    {
     "data": {
      "text/html": [
       "<div>\n",
       "<style scoped>\n",
       "    .dataframe tbody tr th:only-of-type {\n",
       "        vertical-align: middle;\n",
       "    }\n",
       "\n",
       "    .dataframe tbody tr th {\n",
       "        vertical-align: top;\n",
       "    }\n",
       "\n",
       "    .dataframe thead th {\n",
       "        text-align: right;\n",
       "    }\n",
       "</style>\n",
       "<table border=\"1\" class=\"dataframe\">\n",
       "  <thead>\n",
       "    <tr style=\"text-align: right;\">\n",
       "      <th></th>\n",
       "      <th>UserId</th>\n",
       "      <th>MovieId</th>\n",
       "      <th>Rating</th>\n",
       "      <th>est</th>\n",
       "      <th>details</th>\n",
       "      <th>error</th>\n",
       "    </tr>\n",
       "  </thead>\n",
       "  <tbody>\n",
       "    <tr>\n",
       "      <th>70</th>\n",
       "      <td>567.0</td>\n",
       "      <td>112852.0</td>\n",
       "      <td>3.5</td>\n",
       "      <td>3.5</td>\n",
       "      <td>{'was_impossible': False}</td>\n",
       "      <td>0.0</td>\n",
       "    </tr>\n",
       "    <tr>\n",
       "      <th>180</th>\n",
       "      <td>125.0</td>\n",
       "      <td>2387.0</td>\n",
       "      <td>4.5</td>\n",
       "      <td>4.5</td>\n",
       "      <td>{'was_impossible': False}</td>\n",
       "      <td>0.0</td>\n",
       "    </tr>\n",
       "    <tr>\n",
       "      <th>184</th>\n",
       "      <td>537.0</td>\n",
       "      <td>2571.0</td>\n",
       "      <td>4.0</td>\n",
       "      <td>4.0</td>\n",
       "      <td>{'was_impossible': False}</td>\n",
       "      <td>0.0</td>\n",
       "    </tr>\n",
       "    <tr>\n",
       "      <th>217</th>\n",
       "      <td>474.0</td>\n",
       "      <td>2750.0</td>\n",
       "      <td>3.5</td>\n",
       "      <td>3.5</td>\n",
       "      <td>{'was_impossible': False}</td>\n",
       "      <td>0.0</td>\n",
       "    </tr>\n",
       "    <tr>\n",
       "      <th>44</th>\n",
       "      <td>336.0</td>\n",
       "      <td>34162.0</td>\n",
       "      <td>4.0</td>\n",
       "      <td>4.0</td>\n",
       "      <td>{'was_impossible': False}</td>\n",
       "      <td>0.0</td>\n",
       "    </tr>\n",
       "    <tr>\n",
       "      <th>...</th>\n",
       "      <td>...</td>\n",
       "      <td>...</td>\n",
       "      <td>...</td>\n",
       "      <td>...</td>\n",
       "      <td>...</td>\n",
       "      <td>...</td>\n",
       "    </tr>\n",
       "    <tr>\n",
       "      <th>211</th>\n",
       "      <td>21.0</td>\n",
       "      <td>119141.0</td>\n",
       "      <td>0.5</td>\n",
       "      <td>3.5</td>\n",
       "      <td>{'was_impossible': False}</td>\n",
       "      <td>3.0</td>\n",
       "    </tr>\n",
       "    <tr>\n",
       "      <th>276</th>\n",
       "      <td>537.0</td>\n",
       "      <td>527.0</td>\n",
       "      <td>1.0</td>\n",
       "      <td>4.0</td>\n",
       "      <td>{'was_impossible': False}</td>\n",
       "      <td>3.0</td>\n",
       "    </tr>\n",
       "    <tr>\n",
       "      <th>304</th>\n",
       "      <td>305.0</td>\n",
       "      <td>6953.0</td>\n",
       "      <td>1.0</td>\n",
       "      <td>4.0</td>\n",
       "      <td>{'was_impossible': False}</td>\n",
       "      <td>3.0</td>\n",
       "    </tr>\n",
       "    <tr>\n",
       "      <th>296</th>\n",
       "      <td>62.0</td>\n",
       "      <td>63992.0</td>\n",
       "      <td>1.0</td>\n",
       "      <td>4.0</td>\n",
       "      <td>{'was_impossible': False}</td>\n",
       "      <td>3.0</td>\n",
       "    </tr>\n",
       "    <tr>\n",
       "      <th>21</th>\n",
       "      <td>7.0</td>\n",
       "      <td>48516.0</td>\n",
       "      <td>1.0</td>\n",
       "      <td>4.0</td>\n",
       "      <td>{'was_impossible': False}</td>\n",
       "      <td>3.0</td>\n",
       "    </tr>\n",
       "  </tbody>\n",
       "</table>\n",
       "<p>327 rows x 6 columns</p>\n",
       "</div>"
      ],
      "text/plain": [
       "     UserId   MovieId  Rating  est                    details  error\n",
       "70    567.0  112852.0     3.5  3.5  {'was_impossible': False}    0.0\n",
       "180   125.0    2387.0     4.5  4.5  {'was_impossible': False}    0.0\n",
       "184   537.0    2571.0     4.0  4.0  {'was_impossible': False}    0.0\n",
       "217   474.0    2750.0     3.5  3.5  {'was_impossible': False}    0.0\n",
       "44    336.0   34162.0     4.0  4.0  {'was_impossible': False}    0.0\n",
       "..      ...       ...     ...  ...                        ...    ...\n",
       "211    21.0  119141.0     0.5  3.5  {'was_impossible': False}    3.0\n",
       "276   537.0     527.0     1.0  4.0  {'was_impossible': False}    3.0\n",
       "304   305.0    6953.0     1.0  4.0  {'was_impossible': False}    3.0\n",
       "296    62.0   63992.0     1.0  4.0  {'was_impossible': False}    3.0\n",
       "21      7.0   48516.0     1.0  4.0  {'was_impossible': False}    3.0\n",
       "\n",
       "[327 rows x 6 columns]"
      ]
     },
     "metadata": {},
     "output_type": "display_data"
    }
   ],
   "source": [
    "result = pd.DataFrame(test_set_predicted, columns=['UserId', 'MovieId', 'Rating', 'est', 'details'])\n",
    "result['est'] = result['est'].round(decimals=1)\n",
    "result['est'] = result['est'].apply(lambda x: round(0.5 *round(x/0.5), 2), axis=1)\n",
    "result['error'] = abs(result.est - result.Rating)\n",
    "display(result.sort_values(by='error', ascending=True))"
   ]
  },
  {
   "cell_type": "code",
   "execution_count": 24,
   "id": "a3d8a42f-b32d-4794-ba1f-f469a7cf414e",
   "metadata": {},
   "outputs": [
    {
     "name": "stdout",
     "output_type": "stream",
     "text": [
      "Accuracy = 99.65 %\n"
     ]
    }
   ],
   "source": [
    "print(\"Accuracy = {} %\".format(100-round((result[result['error']>=1].shape[0]/result.shape[0]),2)))"
   ]
  },
  {
   "cell_type": "markdown",
   "id": "ad7f167f-e102-4a96-954c-4d62be7bdabc",
   "metadata": {},
   "source": [
    "## Get recommendations for user as movie names (Additional)"
   ]
  },
  {
   "cell_type": "code",
   "execution_count": 25,
   "id": "2bb8ba90-49f3-4a5d-bfb6-a1ac79cafc1f",
   "metadata": {},
   "outputs": [],
   "source": [
    "def get_top_n(predictions, n=10):\n",
    "    \"\"\"Return the top-N recommendation for each user from a set of predictions.\n",
    "\n",
    "    Args:\n",
    "        predictions(list of Prediction objects): The list of predictions, as\n",
    "            returned by the test method of an algorithm.\n",
    "        n(int): The number of recommendation to output for each user. Default\n",
    "            is 10.\n",
    "\n",
    "    Returns:\n",
    "    A dict where keys are user (raw) ids and values are lists of tuples:\n",
    "        [(raw item id, rating estimation), ...] of size n.\n",
    "    \"\"\"\n",
    "\n",
    "    # First map the predictions to each user.\n",
    "    top_n = defaultdict(list)\n",
    "    for uid, iid, true_r, est, _ in predictions:\n",
    "        top_n[uid].append((iid, est))\n",
    "\n",
    "    # Then sort the predictions for each user and retrieve the k highest ones.\n",
    "    for uid, user_ratings in top_n.items():\n",
    "        user_ratings.sort(key=lambda x: x[1], reverse=True)\n",
    "        top_n[uid] = user_ratings[:n]\n",
    "\n",
    "    return top_n"
   ]
  },
  {
   "cell_type": "code",
   "execution_count": 26,
   "id": "41923b4e-27af-43be-a5f8-b5646b0ca0d7",
   "metadata": {},
   "outputs": [],
   "source": [
    "movieID_to_name = {}\n",
    "with open('movies.csv', newline='', encoding='ISO-8859-1') as csvfile:\n",
    "        movie_reader = csv.reader(csvfile)\n",
    "        next(movie_reader)\n",
    "        for row in movie_reader:\n",
    "            movieID = int(row[0])\n",
    "            movie_name = row[1]\n",
    "            movieID_to_name[movieID] = movie_name\n",
    "                \n",
    "def getMovieName(movieID):\n",
    "    if int(movieID) in movieID_to_name:\n",
    "        return movieID_to_name[int(movieID)]\n",
    "    else:\n",
    "        return \"\""
   ]
  },
  {
   "cell_type": "markdown",
   "id": "d9256a83-3316-44ff-9eb0-d29c753b1ebf",
   "metadata": {},
   "source": [
    "> If you are predicting the ratings of some items that have not been rated by anybody (or for a user that has no rating), then SVD cannot output a prediction, so the estimation is set to the average of all the ratings. "
   ]
  },
  {
   "cell_type": "code",
   "execution_count": 28,
   "id": "c016ef8c-a6cc-4c0a-88c1-d122c763dcd8",
   "metadata": {},
   "outputs": [
    {
     "name": "stderr",
     "output_type": "stream",
     "text": [
      "UserWarning: Distributing <class 'NoneType'> object. This may take some time.\n",
      "UserWarning: `DataFrame.append` for empty DataFrame defaulting to pandas implementation.\n",
      "FutureWarning: The frame.append method is deprecated and will be removed from pandas in a future version. Use pandas.concat instead.\n",
      "UserWarning: Distributing <class 'pandas.core.frame.DataFrame'> object. This may take some time.\n",
      "UserWarning: Due to https://github.com/pandas-dev/pandas/issues/35092, Pandas ignores sort=False; Modin correctly does not sort.\n",
      "UserWarning: Distributing <class 'dict'> object. This may take some time.\n",
      "UserWarning: Due to https://github.com/pandas-dev/pandas/issues/35092, Pandas ignores sort=False; Modin correctly does not sort.\n",
      "UserWarning: Distributing <class 'dict'> object. This may take some time.\n",
      "UserWarning: Due to https://github.com/pandas-dev/pandas/issues/35092, Pandas ignores sort=False; Modin correctly does not sort.\n",
      "UserWarning: Distributing <class 'dict'> object. This may take some time.\n",
      "UserWarning: Due to https://github.com/pandas-dev/pandas/issues/35092, Pandas ignores sort=False; Modin correctly does not sort.\n",
      "UserWarning: Distributing <class 'dict'> object. This may take some time.\n"
     ]
    },
    {
     "data": {
      "text/html": [
       "<div>\n",
       "<style scoped>\n",
       "    .dataframe tbody tr th:only-of-type {\n",
       "        vertical-align: middle;\n",
       "    }\n",
       "\n",
       "    .dataframe tbody tr th {\n",
       "        vertical-align: top;\n",
       "    }\n",
       "\n",
       "    .dataframe thead th {\n",
       "        text-align: right;\n",
       "    }\n",
       "</style>\n",
       "<table border=\"1\" class=\"dataframe\">\n",
       "  <thead>\n",
       "    <tr style=\"text-align: right;\">\n",
       "      <th></th>\n",
       "      <th>User</th>\n",
       "      <th>Recommendations</th>\n",
       "    </tr>\n",
       "  </thead>\n",
       "  <tbody>\n",
       "    <tr>\n",
       "      <th>0</th>\n",
       "      <td>567.0</td>\n",
       "      <td>Dr. Strangelove or: How I Learned to Stop Worr...</td>\n",
       "    </tr>\n",
       "    <tr>\n",
       "      <th>1</th>\n",
       "      <td>474.0</td>\n",
       "      <td>Jumanji (1995), William Shakespeare's Romeo + ...</td>\n",
       "    </tr>\n",
       "    <tr>\n",
       "      <th>2</th>\n",
       "      <td>477.0</td>\n",
       "      <td>Iron Giant, The (1999), Rear Window (1954), In...</td>\n",
       "    </tr>\n",
       "    <tr>\n",
       "      <th>3</th>\n",
       "      <td>424.0</td>\n",
       "      <td>American History X (1998), Lion King, The (199...</td>\n",
       "    </tr>\n",
       "    <tr>\n",
       "      <th>4</th>\n",
       "      <td>62.0</td>\n",
       "      <td>John Wick: Chapter Two (2017), Insomnia (2002)...</td>\n",
       "    </tr>\n",
       "  </tbody>\n",
       "</table>\n",
       "</div>"
      ],
      "text/plain": [
       "    User                                    Recommendations\n",
       "0  567.0  Dr. Strangelove or: How I Learned to Stop Worr...\n",
       "1  474.0  Jumanji (1995), William Shakespeare's Romeo + ...\n",
       "2  477.0  Iron Giant, The (1999), Rear Window (1954), In...\n",
       "3  424.0  American History X (1998), Lion King, The (199...\n",
       "4   62.0  John Wick: Chapter Two (2017), Insomnia (2002)..."
      ]
     },
     "metadata": {},
     "output_type": "display_data"
    }
   ],
   "source": [
    "top_n = get_top_n(test_set_predicted, n=10)\n",
    "# pd.set_option('display.max_columns', None)  # or 1000\n",
    "# pd.set_option('display.max_rows', None)  # or 1000\n",
    "# pd.set_option('display.max_colwidth', None)  # or 199\n",
    "ff=pd.DataFrame(columns=['User', 'Recommendations'])\n",
    "# Print the recommended items for each user\n",
    "for uid, user_ratings in top_n.items():\n",
    "    if len(user_ratings)>=10:\n",
    "        ff = ff.append({'User': uid, 'Recommendations': ', '.join([getMovieName(iid) for (iid, _) in user_ratings])}, ignore_index=True)\n",
    "display(ff)"
   ]
  },
  {
   "cell_type": "code",
   "execution_count": null,
   "id": "73466044-36c6-4365-9010-70b580a15bf3",
   "metadata": {},
   "outputs": [],
   "source": []
  }
 ],
 "metadata": {
  "kernelspec": {
   "display_name": "Python 3.8",
   "language": "python",
   "name": "python3"
  },
  "language_info": {
   "codemirror_mode": {
    "name": "ipython",
    "version": 3
   },
   "file_extension": ".py",
   "mimetype": "text/x-python",
   "name": "python",
   "nbconvert_exporter": "python",
   "pygments_lexer": "ipython3",
   "version": "3.8.10"
  }
 },
 "nbformat": 4,
 "nbformat_minor": 5
}
